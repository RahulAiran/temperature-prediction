{
 "cells": [
  {
   "cell_type": "code",
   "execution_count": 1,
   "metadata": {},
   "outputs": [],
   "source": [
    "import numpy as np\n",
    "import pandas as pd"
   ]
  },
  {
   "cell_type": "code",
   "execution_count": 2,
   "metadata": {},
   "outputs": [],
   "source": [
    "from sklearn.ensemble import GradientBoostingRegressor\n",
    "from sklearn.model_selection import train_test_split"
   ]
  },
  {
   "cell_type": "code",
   "execution_count": 3,
   "metadata": {},
   "outputs": [],
   "source": [
    "df = pd.read_csv(\"Downloads/Copy of POWER_SinglePoint_Daily - POWER_SinglePoint_Daily.csv\")"
   ]
  },
  {
   "cell_type": "code",
   "execution_count": 4,
   "metadata": {},
   "outputs": [],
   "source": [
    "df = df[:-2]"
   ]
  },
  {
   "cell_type": "code",
   "execution_count": 5,
   "metadata": {},
   "outputs": [
    {
     "data": {
      "text/html": [
       "<div>\n",
       "<style scoped>\n",
       "    .dataframe tbody tr th:only-of-type {\n",
       "        vertical-align: middle;\n",
       "    }\n",
       "\n",
       "    .dataframe tbody tr th {\n",
       "        vertical-align: top;\n",
       "    }\n",
       "\n",
       "    .dataframe thead th {\n",
       "        text-align: right;\n",
       "    }\n",
       "</style>\n",
       "<table border=\"1\" class=\"dataframe\">\n",
       "  <thead>\n",
       "    <tr style=\"text-align: right;\">\n",
       "      <th></th>\n",
       "      <th>LAT</th>\n",
       "      <th>LON</th>\n",
       "      <th>YEAR</th>\n",
       "      <th>MO</th>\n",
       "      <th>DY</th>\n",
       "      <th>T2M_RANGE</th>\n",
       "      <th>TS</th>\n",
       "      <th>T2MWET</th>\n",
       "      <th>T2M_MAX</th>\n",
       "      <th>T2M_MIN</th>\n",
       "      <th>T2M</th>\n",
       "      <th>PS</th>\n",
       "      <th>QV2M</th>\n",
       "      <th>RH2M</th>\n",
       "      <th>PRECTOT</th>\n",
       "    </tr>\n",
       "  </thead>\n",
       "  <tbody>\n",
       "    <tr>\n",
       "      <th>0</th>\n",
       "      <td>18.66591</td>\n",
       "      <td>73.77031</td>\n",
       "      <td>2015</td>\n",
       "      <td>1</td>\n",
       "      <td>1</td>\n",
       "      <td>10.99</td>\n",
       "      <td>18.43</td>\n",
       "      <td>13.07</td>\n",
       "      <td>24.83</td>\n",
       "      <td>13.84</td>\n",
       "      <td>18.26</td>\n",
       "      <td>94.09</td>\n",
       "      <td>0.010020</td>\n",
       "      <td>71.74</td>\n",
       "      <td>0.36</td>\n",
       "    </tr>\n",
       "    <tr>\n",
       "      <th>1</th>\n",
       "      <td>18.66591</td>\n",
       "      <td>73.77031</td>\n",
       "      <td>2015</td>\n",
       "      <td>1</td>\n",
       "      <td>2</td>\n",
       "      <td>12.06</td>\n",
       "      <td>17.90</td>\n",
       "      <td>13.40</td>\n",
       "      <td>24.30</td>\n",
       "      <td>12.23</td>\n",
       "      <td>17.85</td>\n",
       "      <td>94.35</td>\n",
       "      <td>0.010200</td>\n",
       "      <td>75.15</td>\n",
       "      <td>0.08</td>\n",
       "    </tr>\n",
       "    <tr>\n",
       "      <th>2</th>\n",
       "      <td>18.66591</td>\n",
       "      <td>73.77031</td>\n",
       "      <td>2015</td>\n",
       "      <td>1</td>\n",
       "      <td>3</td>\n",
       "      <td>12.50</td>\n",
       "      <td>18.39</td>\n",
       "      <td>13.23</td>\n",
       "      <td>25.03</td>\n",
       "      <td>12.53</td>\n",
       "      <td>18.15</td>\n",
       "      <td>94.52</td>\n",
       "      <td>0.010078</td>\n",
       "      <td>73.00</td>\n",
       "      <td>0.00</td>\n",
       "    </tr>\n",
       "    <tr>\n",
       "      <th>3</th>\n",
       "      <td>18.66591</td>\n",
       "      <td>73.77031</td>\n",
       "      <td>2015</td>\n",
       "      <td>1</td>\n",
       "      <td>4</td>\n",
       "      <td>13.91</td>\n",
       "      <td>19.43</td>\n",
       "      <td>14.21</td>\n",
       "      <td>26.79</td>\n",
       "      <td>12.89</td>\n",
       "      <td>19.26</td>\n",
       "      <td>94.56</td>\n",
       "      <td>0.010747</td>\n",
       "      <td>72.64</td>\n",
       "      <td>0.00</td>\n",
       "    </tr>\n",
       "    <tr>\n",
       "      <th>4</th>\n",
       "      <td>18.66591</td>\n",
       "      <td>73.77031</td>\n",
       "      <td>2015</td>\n",
       "      <td>1</td>\n",
       "      <td>5</td>\n",
       "      <td>13.59</td>\n",
       "      <td>19.68</td>\n",
       "      <td>12.02</td>\n",
       "      <td>27.15</td>\n",
       "      <td>13.56</td>\n",
       "      <td>19.86</td>\n",
       "      <td>94.57</td>\n",
       "      <td>0.009309</td>\n",
       "      <td>60.66</td>\n",
       "      <td>0.00</td>\n",
       "    </tr>\n",
       "    <tr>\n",
       "      <th>...</th>\n",
       "      <td>...</td>\n",
       "      <td>...</td>\n",
       "      <td>...</td>\n",
       "      <td>...</td>\n",
       "      <td>...</td>\n",
       "      <td>...</td>\n",
       "      <td>...</td>\n",
       "      <td>...</td>\n",
       "      <td>...</td>\n",
       "      <td>...</td>\n",
       "      <td>...</td>\n",
       "      <td>...</td>\n",
       "      <td>...</td>\n",
       "      <td>...</td>\n",
       "      <td>...</td>\n",
       "    </tr>\n",
       "    <tr>\n",
       "      <th>1902</th>\n",
       "      <td>18.66591</td>\n",
       "      <td>73.77031</td>\n",
       "      <td>2020</td>\n",
       "      <td>3</td>\n",
       "      <td>17</td>\n",
       "      <td>14.39</td>\n",
       "      <td>28.50</td>\n",
       "      <td>20.95</td>\n",
       "      <td>35.21</td>\n",
       "      <td>20.82</td>\n",
       "      <td>27.67</td>\n",
       "      <td>94.39</td>\n",
       "      <td>0.010768</td>\n",
       "      <td>43.76</td>\n",
       "      <td>0.03</td>\n",
       "    </tr>\n",
       "    <tr>\n",
       "      <th>1903</th>\n",
       "      <td>18.66591</td>\n",
       "      <td>73.77031</td>\n",
       "      <td>2020</td>\n",
       "      <td>3</td>\n",
       "      <td>18</td>\n",
       "      <td>14.51</td>\n",
       "      <td>28.34</td>\n",
       "      <td>20.00</td>\n",
       "      <td>35.71</td>\n",
       "      <td>21.20</td>\n",
       "      <td>27.10</td>\n",
       "      <td>94.43</td>\n",
       "      <td>0.009875</td>\n",
       "      <td>41.53</td>\n",
       "      <td>0.04</td>\n",
       "    </tr>\n",
       "    <tr>\n",
       "      <th>1904</th>\n",
       "      <td>18.66591</td>\n",
       "      <td>73.77031</td>\n",
       "      <td>2020</td>\n",
       "      <td>3</td>\n",
       "      <td>19</td>\n",
       "      <td>14.91</td>\n",
       "      <td>26.28</td>\n",
       "      <td>17.77</td>\n",
       "      <td>34.20</td>\n",
       "      <td>19.29</td>\n",
       "      <td>25.51</td>\n",
       "      <td>94.40</td>\n",
       "      <td>0.008190</td>\n",
       "      <td>37.86</td>\n",
       "      <td>0.00</td>\n",
       "    </tr>\n",
       "    <tr>\n",
       "      <th>1905</th>\n",
       "      <td>18.66591</td>\n",
       "      <td>73.77031</td>\n",
       "      <td>2020</td>\n",
       "      <td>3</td>\n",
       "      <td>20</td>\n",
       "      <td>15.55</td>\n",
       "      <td>24.90</td>\n",
       "      <td>17.81</td>\n",
       "      <td>32.82</td>\n",
       "      <td>17.27</td>\n",
       "      <td>23.88</td>\n",
       "      <td>94.39</td>\n",
       "      <td>0.009140</td>\n",
       "      <td>46.53</td>\n",
       "      <td>0.00</td>\n",
       "    </tr>\n",
       "    <tr>\n",
       "      <th>1906</th>\n",
       "      <td>18.66591</td>\n",
       "      <td>73.77031</td>\n",
       "      <td>2020</td>\n",
       "      <td>3</td>\n",
       "      <td>21</td>\n",
       "      <td>18.16</td>\n",
       "      <td>25.21</td>\n",
       "      <td>18.36</td>\n",
       "      <td>34.02</td>\n",
       "      <td>15.86</td>\n",
       "      <td>24.02</td>\n",
       "      <td>94.33</td>\n",
       "      <td>0.009724</td>\n",
       "      <td>49.06</td>\n",
       "      <td>0.01</td>\n",
       "    </tr>\n",
       "  </tbody>\n",
       "</table>\n",
       "<p>1907 rows × 15 columns</p>\n",
       "</div>"
      ],
      "text/plain": [
       "           LAT       LON  YEAR  MO  DY  T2M_RANGE     TS  T2MWET  T2M_MAX  \\\n",
       "0     18.66591  73.77031  2015   1   1      10.99  18.43   13.07    24.83   \n",
       "1     18.66591  73.77031  2015   1   2      12.06  17.90   13.40    24.30   \n",
       "2     18.66591  73.77031  2015   1   3      12.50  18.39   13.23    25.03   \n",
       "3     18.66591  73.77031  2015   1   4      13.91  19.43   14.21    26.79   \n",
       "4     18.66591  73.77031  2015   1   5      13.59  19.68   12.02    27.15   \n",
       "...        ...       ...   ...  ..  ..        ...    ...     ...      ...   \n",
       "1902  18.66591  73.77031  2020   3  17      14.39  28.50   20.95    35.21   \n",
       "1903  18.66591  73.77031  2020   3  18      14.51  28.34   20.00    35.71   \n",
       "1904  18.66591  73.77031  2020   3  19      14.91  26.28   17.77    34.20   \n",
       "1905  18.66591  73.77031  2020   3  20      15.55  24.90   17.81    32.82   \n",
       "1906  18.66591  73.77031  2020   3  21      18.16  25.21   18.36    34.02   \n",
       "\n",
       "      T2M_MIN    T2M     PS      QV2M   RH2M  PRECTOT  \n",
       "0       13.84  18.26  94.09  0.010020  71.74     0.36  \n",
       "1       12.23  17.85  94.35  0.010200  75.15     0.08  \n",
       "2       12.53  18.15  94.52  0.010078  73.00     0.00  \n",
       "3       12.89  19.26  94.56  0.010747  72.64     0.00  \n",
       "4       13.56  19.86  94.57  0.009309  60.66     0.00  \n",
       "...       ...    ...    ...       ...    ...      ...  \n",
       "1902    20.82  27.67  94.39  0.010768  43.76     0.03  \n",
       "1903    21.20  27.10  94.43  0.009875  41.53     0.04  \n",
       "1904    19.29  25.51  94.40  0.008190  37.86     0.00  \n",
       "1905    17.27  23.88  94.39  0.009140  46.53     0.00  \n",
       "1906    15.86  24.02  94.33  0.009724  49.06     0.01  \n",
       "\n",
       "[1907 rows x 15 columns]"
      ]
     },
     "execution_count": 5,
     "metadata": {},
     "output_type": "execute_result"
    }
   ],
   "source": [
    "df"
   ]
  },
  {
   "cell_type": "code",
   "execution_count": 6,
   "metadata": {},
   "outputs": [],
   "source": [
    "df.drop(['LAT', 'LON', 'YEAR', 'DY', 'T2M_RANGE', 'TS', 'T2MWET', 'PS', 'QV2M', 'RH2M', 'PRECTOT'], axis = 1, inplace = True)"
   ]
  },
  {
   "cell_type": "code",
   "execution_count": 9,
   "metadata": {},
   "outputs": [
    {
     "data": {
      "text/plain": [
       "count    1907.000000\n",
       "mean       18.628317\n",
       "std         3.994296\n",
       "min         7.110000\n",
       "25%        15.185000\n",
       "50%        19.990000\n",
       "75%        21.870000\n",
       "max        26.140000\n",
       "Name: T2M_MIN, dtype: float64"
      ]
     },
     "execution_count": 9,
     "metadata": {},
     "output_type": "execute_result"
    }
   ],
   "source": [
    "df['T2M_MIN'].describe()"
   ]
  },
  {
   "cell_type": "code",
   "execution_count": 19,
   "metadata": {},
   "outputs": [],
   "source": [
    "data = np.array(df)"
   ]
  },
  {
   "cell_type": "code",
   "execution_count": 21,
   "metadata": {},
   "outputs": [
    {
     "name": "stdout",
     "output_type": "stream",
     "text": [
      "(1907, 4)\n"
     ]
    }
   ],
   "source": [
    "print(data.shape)"
   ]
  },
  {
   "cell_type": "code",
   "execution_count": 20,
   "metadata": {},
   "outputs": [
    {
     "data": {
      "text/plain": [
       "array([[ 1.  , 24.83, 13.84, 18.26],\n",
       "       [ 1.  , 24.3 , 12.23, 17.85],\n",
       "       [ 1.  , 25.03, 12.53, 18.15],\n",
       "       ...,\n",
       "       [ 3.  , 34.2 , 19.29, 25.51],\n",
       "       [ 3.  , 32.82, 17.27, 23.88],\n",
       "       [ 3.  , 34.02, 15.86, 24.02]])"
      ]
     },
     "execution_count": 20,
     "metadata": {},
     "output_type": "execute_result"
    }
   ],
   "source": [
    "data"
   ]
  },
  {
   "cell_type": "code",
   "execution_count": 29,
   "metadata": {},
   "outputs": [],
   "source": [
    "X = np.array([[data[i+3][0],\n",
    "               data[i][1],\n",
    "               data[i][2],\n",
    "               data[i+1][1],\n",
    "               data[i+1][2],\n",
    "               data[i+2][1],\n",
    "               data[i+1][2],\n",
    "               data[i+3][3]] for i in range(1903)])"
   ]
  },
  {
   "cell_type": "code",
   "execution_count": 30,
   "metadata": {},
   "outputs": [
    {
     "data": {
      "text/plain": [
       "array([[ 1.  , 24.83, 13.84, ..., 25.03, 12.23, 19.26],\n",
       "       [ 1.  , 24.3 , 12.23, ..., 26.79, 12.53, 19.86],\n",
       "       [ 1.  , 25.03, 12.53, ..., 27.15, 12.89, 19.31],\n",
       "       ...,\n",
       "       [ 3.  , 34.01, 14.33, ..., 35.21, 18.94, 27.1 ],\n",
       "       [ 3.  , 35.94, 18.94, ..., 35.71, 20.82, 25.51],\n",
       "       [ 3.  , 35.21, 20.82, ..., 34.2 , 21.2 , 23.88]])"
      ]
     },
     "execution_count": 30,
     "metadata": {},
     "output_type": "execute_result"
    }
   ],
   "source": [
    "X"
   ]
  },
  {
   "cell_type": "code",
   "execution_count": 31,
   "metadata": {},
   "outputs": [
    {
     "name": "stdout",
     "output_type": "stream",
     "text": [
      "(1903, 8)\n"
     ]
    }
   ],
   "source": [
    "print(X.shape)"
   ]
  },
  {
   "cell_type": "code",
   "execution_count": 53,
   "metadata": {},
   "outputs": [],
   "source": [
    "X_train, X_test, y_train, y_test = train_test_split(X[:, :7], X[:, -1], test_size=0.15, random_state=42, shuffle = True)"
   ]
  },
  {
   "cell_type": "markdown",
   "metadata": {},
   "source": [
    "### Gradient Boosters"
   ]
  },
  {
   "cell_type": "code",
   "execution_count": 54,
   "metadata": {},
   "outputs": [],
   "source": [
    "gbr = GradientBoostingRegressor()"
   ]
  },
  {
   "cell_type": "code",
   "execution_count": 55,
   "metadata": {},
   "outputs": [
    {
     "data": {
      "text/plain": [
       "GradientBoostingRegressor(alpha=0.9, criterion='friedman_mse', init=None,\n",
       "             learning_rate=0.1, loss='ls', max_depth=3, max_features=None,\n",
       "             max_leaf_nodes=None, min_impurity_decrease=0.0,\n",
       "             min_impurity_split=None, min_samples_leaf=1,\n",
       "             min_samples_split=2, min_weight_fraction_leaf=0.0,\n",
       "             n_estimators=100, n_iter_no_change=None, presort='auto',\n",
       "             random_state=None, subsample=1.0, tol=0.0001,\n",
       "             validation_fraction=0.1, verbose=0, warm_start=False)"
      ]
     },
     "execution_count": 55,
     "metadata": {},
     "output_type": "execute_result"
    }
   ],
   "source": [
    "gbr.fit(X = X_train, y = y_train)"
   ]
  },
  {
   "cell_type": "code",
   "execution_count": 56,
   "metadata": {},
   "outputs": [],
   "source": [
    "pred = gbr.predict(X = X_test)"
   ]
  },
  {
   "cell_type": "code",
   "execution_count": 57,
   "metadata": {},
   "outputs": [],
   "source": [
    "from sklearn.metrics import mean_squared_error"
   ]
  },
  {
   "cell_type": "code",
   "execution_count": 58,
   "metadata": {},
   "outputs": [
    {
     "name": "stdout",
     "output_type": "stream",
     "text": [
      "0.758867541121364\n"
     ]
    }
   ],
   "source": [
    "print(mean_squared_error(y_test, pred))"
   ]
  },
  {
   "cell_type": "code",
   "execution_count": null,
   "metadata": {},
   "outputs": [],
   "source": []
  },
  {
   "cell_type": "markdown",
   "metadata": {},
   "source": [
    "### Linear Regression"
   ]
  },
  {
   "cell_type": "code",
   "execution_count": 61,
   "metadata": {},
   "outputs": [],
   "source": [
    "from sklearn.linear_model import LinearRegression"
   ]
  },
  {
   "cell_type": "code",
   "execution_count": 62,
   "metadata": {},
   "outputs": [],
   "source": [
    "lr = LinearRegression()"
   ]
  },
  {
   "cell_type": "code",
   "execution_count": 63,
   "metadata": {},
   "outputs": [
    {
     "data": {
      "text/plain": [
       "LinearRegression(copy_X=True, fit_intercept=True, n_jobs=None,\n",
       "         normalize=False)"
      ]
     },
     "execution_count": 63,
     "metadata": {},
     "output_type": "execute_result"
    }
   ],
   "source": [
    "lr.fit(X_train, y_train)"
   ]
  },
  {
   "cell_type": "code",
   "execution_count": 64,
   "metadata": {},
   "outputs": [],
   "source": [
    "preds = lr.predict(X_test)"
   ]
  },
  {
   "cell_type": "code",
   "execution_count": 65,
   "metadata": {},
   "outputs": [
    {
     "data": {
      "text/plain": [
       "0.941748673231129"
      ]
     },
     "execution_count": 65,
     "metadata": {},
     "output_type": "execute_result"
    }
   ],
   "source": [
    "mean_squared_error(y_test, preds)"
   ]
  },
  {
   "cell_type": "code",
   "execution_count": null,
   "metadata": {},
   "outputs": [],
   "source": []
  },
  {
   "cell_type": "markdown",
   "metadata": {},
   "source": [
    "### Tree Regression"
   ]
  },
  {
   "cell_type": "code",
   "execution_count": 67,
   "metadata": {},
   "outputs": [],
   "source": [
    "from sklearn.ensemble import RandomForestRegressor"
   ]
  },
  {
   "cell_type": "code",
   "execution_count": 68,
   "metadata": {},
   "outputs": [],
   "source": [
    "rfr = RandomForestRegressor()"
   ]
  },
  {
   "cell_type": "code",
   "execution_count": 70,
   "metadata": {},
   "outputs": [
    {
     "name": "stderr",
     "output_type": "stream",
     "text": [
      "C:\\Users\\prana\\Anaconda3\\lib\\site-packages\\sklearn\\ensemble\\forest.py:246: FutureWarning: The default value of n_estimators will change from 10 in version 0.20 to 100 in 0.22.\n",
      "  \"10 in version 0.20 to 100 in 0.22.\", FutureWarning)\n"
     ]
    },
    {
     "data": {
      "text/plain": [
       "RandomForestRegressor(bootstrap=True, criterion='mse', max_depth=None,\n",
       "           max_features='auto', max_leaf_nodes=None,\n",
       "           min_impurity_decrease=0.0, min_impurity_split=None,\n",
       "           min_samples_leaf=1, min_samples_split=2,\n",
       "           min_weight_fraction_leaf=0.0, n_estimators=10, n_jobs=None,\n",
       "           oob_score=False, random_state=None, verbose=0, warm_start=False)"
      ]
     },
     "execution_count": 70,
     "metadata": {},
     "output_type": "execute_result"
    }
   ],
   "source": [
    "rfr.fit(X_train, y_train)"
   ]
  },
  {
   "cell_type": "code",
   "execution_count": 71,
   "metadata": {},
   "outputs": [],
   "source": [
    "preds = rfr.predict(X_test)"
   ]
  },
  {
   "cell_type": "code",
   "execution_count": 72,
   "metadata": {},
   "outputs": [
    {
     "data": {
      "text/plain": [
       "0.8069592587412587"
      ]
     },
     "execution_count": 72,
     "metadata": {},
     "output_type": "execute_result"
    }
   ],
   "source": [
    "mean_squared_error(y_test, preds)"
   ]
  },
  {
   "cell_type": "code",
   "execution_count": null,
   "metadata": {},
   "outputs": [],
   "source": []
  },
  {
   "cell_type": "markdown",
   "metadata": {},
   "source": [
    "### Sklearn ANN"
   ]
  },
  {
   "cell_type": "code",
   "execution_count": 73,
   "metadata": {},
   "outputs": [],
   "source": [
    "from sklearn.neural_network import MLPRegressor"
   ]
  },
  {
   "cell_type": "code",
   "execution_count": 74,
   "metadata": {},
   "outputs": [],
   "source": [
    "mlpr = MLPRegressor()"
   ]
  },
  {
   "cell_type": "code",
   "execution_count": 76,
   "metadata": {},
   "outputs": [
    {
     "name": "stderr",
     "output_type": "stream",
     "text": [
      "C:\\Users\\prana\\Anaconda3\\lib\\site-packages\\sklearn\\neural_network\\multilayer_perceptron.py:562: ConvergenceWarning: Stochastic Optimizer: Maximum iterations (200) reached and the optimization hasn't converged yet.\n",
      "  % self.max_iter, ConvergenceWarning)\n"
     ]
    },
    {
     "data": {
      "text/plain": [
       "MLPRegressor(activation='relu', alpha=0.0001, batch_size='auto', beta_1=0.9,\n",
       "       beta_2=0.999, early_stopping=False, epsilon=1e-08,\n",
       "       hidden_layer_sizes=(100,), learning_rate='constant',\n",
       "       learning_rate_init=0.001, max_iter=200, momentum=0.9,\n",
       "       n_iter_no_change=10, nesterovs_momentum=True, power_t=0.5,\n",
       "       random_state=None, shuffle=True, solver='adam', tol=0.0001,\n",
       "       validation_fraction=0.1, verbose=False, warm_start=False)"
      ]
     },
     "execution_count": 76,
     "metadata": {},
     "output_type": "execute_result"
    }
   ],
   "source": [
    "mlpr.fit(X_train, y_train)"
   ]
  },
  {
   "cell_type": "code",
   "execution_count": 77,
   "metadata": {},
   "outputs": [],
   "source": [
    "preds = mlpr.predict(X_test)"
   ]
  },
  {
   "cell_type": "code",
   "execution_count": 78,
   "metadata": {},
   "outputs": [
    {
     "data": {
      "text/plain": [
       "0.7822631484186164"
      ]
     },
     "execution_count": 78,
     "metadata": {},
     "output_type": "execute_result"
    }
   ],
   "source": [
    "mean_squared_error(y_test, preds)"
   ]
  },
  {
   "cell_type": "code",
   "execution_count": null,
   "metadata": {},
   "outputs": [],
   "source": []
  }
 ],
 "metadata": {
  "kernelspec": {
   "display_name": "Python 3",
   "language": "python",
   "name": "python3"
  },
  "language_info": {
   "codemirror_mode": {
    "name": "ipython",
    "version": 3
   },
   "file_extension": ".py",
   "mimetype": "text/x-python",
   "name": "python",
   "nbconvert_exporter": "python",
   "pygments_lexer": "ipython3",
   "version": "3.7.0"
  }
 },
 "nbformat": 4,
 "nbformat_minor": 2
}
